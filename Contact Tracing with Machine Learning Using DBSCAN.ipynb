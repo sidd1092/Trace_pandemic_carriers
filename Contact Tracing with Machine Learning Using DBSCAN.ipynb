{
 "cells": [
  {
   "cell_type": "code",
   "execution_count": null,
   "id": "5aec4b85",
   "metadata": {},
   "outputs": [],
   "source": [
    "import pandas as pd\n",
    "from sklearn.cluster import DBSCAN\n",
    "from math import radians\n",
    "import matplotlib.pyplot as plt\n",
    "import seaborn as sns\n"
   ]
  },
  {
   "cell_type": "code",
   "execution_count": null,
   "id": "95ecc168",
   "metadata": {},
   "outputs": [],
   "source": [
    "try:\n",
    "    df = pd.read_json(\"livedata.json\")\n",
    "    # Display the first 20 rows of the DataFrame\n",
    "    print(df.head(20))\n",
    "except FileNotFoundError:\n",
    "    print(\"Error: 'livedata.json' file not found. Please check the file path.\")\n",
    "except ValueError as e:\n",
    "    print(f\"Error loading JSON: {e}\")\n",
    "df.head(20)"
   ]
  },
  {
   "cell_type": "code",
   "execution_count": null,
   "id": "b6131fef",
   "metadata": {},
   "outputs": [],
   "source": [
    "sns.scatterplot(data=df,x='latitude',y='longitude',hue='id')\n",
    "plt.show()"
   ]
  },
  {
   "cell_type": "code",
   "execution_count": null,
   "id": "fb94b1be",
   "metadata": {},
   "outputs": [],
   "source": [
    "def get_infected_names(input_name):\n",
    "\n",
    "    epsilon = 0.0018288 # a radial distance of 6 feet in kilometers\n",
    "    model = DBSCAN(eps=epsilon, min_samples=3, metric='haversine').fit(df[['latitude', 'longitude']])\n",
    "    df['cluster'] = model.labels_.tolist()\n",
    "\n",
    "    input_name_clusters = []\n",
    "    for i in range(len(df)):\n",
    "        if df['id'][i] == input_name:\n",
    "            if df['cluster'][i] in input_name_clusters:\n",
    "                pass\n",
    "            else:\n",
    "                input_name_clusters.append(df['cluster'][i])\n",
    "\n",
    "    infected_names = []\n",
    "    for cluster in input_name_clusters:\n",
    "        if cluster != -1:\n",
    "            ids_in_cluster = df.loc[df['cluster'] == cluster, 'id']\n",
    "            for i in range(len(ids_in_cluster)):\n",
    "                member_id = ids_in_cluster.iloc[i]\n",
    "                if (member_id not in infected_names) and (member_id != input_name):\n",
    "                    infected_names.append(member_id)\n",
    "                else:\n",
    "                    pass\n",
    "    return infected_names, model # return a tuple containing the list and the model\n",
    "\n",
    "infected, model = get_infected_names(\"Erin\") # unpack the returned values\n",
    "print(infected)\n",
    "\n",
    "labels = model.labels_ # Now you can use model here\n",
    "fig = plt.figure(figsize=(12, 10))\n",
    "# Pass the DataFrame to the `data` argument, and specify x and y columns using keywords.\n",
    "sns.scatterplot(data=df, x='latitude', y='longitude', hue=labels, palette='tab10')\n",
    "plt.legend(bbox_to_anchor=[1, 1])\n",
    "plt.show()"
   ]
  },
  {
   "cell_type": "code",
   "execution_count": null,
   "id": "186b728a",
   "metadata": {},
   "outputs": [],
   "source": [
    "df"
   ]
  },
  {
   "cell_type": "code",
   "execution_count": null,
   "id": "64a6ac90",
   "metadata": {},
   "outputs": [],
   "source": [
    "# convert degrees to radians for latitude and longitude\n",
    "df = pd.read_json(\"livedata.json\")\n",
    "df['latitude'] = df['latitude'].apply(radians)\n",
    "df['longitude'] = df['longitude'].apply(radians)\n",
    "\n",
    "def get_infected_names(input_name):\n",
    "    epsilon = 0.0018288 # a radial distance of 6 feet in kilometers\n",
    "\n",
    "    # use haversine distance with radians data\n",
    "    model = DBSCAN(eps=epsilon, min_samples=3, metric='haversine').fit(df[['latitude', 'longitude']])\n",
    "    df['cluster'] = model.labels_.tolist()\n",
    "\n",
    "    input_name_clusters = []\n",
    "    for i in range(len(df)):\n",
    "        if df['id'][i] == input_name:\n",
    "            if df['cluster'][i] in input_name_clusters:\n",
    "                pass\n",
    "            else:\n",
    "                input_name_clusters.append(df['cluster'][i])\n",
    "\n",
    "    infected_names = []\n",
    "    for cluster in input_name_clusters:\n",
    "        if cluster != -1:\n",
    "            ids_in_cluster = df.loc[df['cluster'] == cluster, 'id']\n",
    "            for i in range(len(ids_in_cluster)):\n",
    "                member_id = ids_in_cluster.iloc[i]\n",
    "                if (member_id not in infected_names) and (member_id != input_name):\n",
    "                    infected_names.append(member_id)\n",
    "                else:\n",
    "                    pass\n",
    "\n",
    "    return infected_names\n",
    "\n",
    "# test with input name \"David\"\n",
    "print(get_infected_names(\"David\"))"
   ]
  }
 ],
 "metadata": {
  "kernelspec": {
   "display_name": "Python 3 (ipykernel)",
   "language": "python",
   "name": "python3"
  },
  "language_info": {
   "codemirror_mode": {
    "name": "ipython",
    "version": 3
   },
   "file_extension": ".py",
   "mimetype": "text/x-python",
   "name": "python",
   "nbconvert_exporter": "python",
   "pygments_lexer": "ipython3",
   "version": "3.11.9"
  }
 },
 "nbformat": 4,
 "nbformat_minor": 5
}
